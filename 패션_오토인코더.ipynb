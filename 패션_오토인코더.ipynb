{
  "nbformat": 4,
  "nbformat_minor": 0,
  "metadata": {
    "colab": {
      "provenance": [],
      "gpuType": "T4",
      "include_colab_link": true
    },
    "kernelspec": {
      "display_name": "Python 3",
      "language": "python",
      "name": "python3"
    },
    "language_info": {
      "codemirror_mode": {
        "name": "ipython",
        "version": 3
      },
      "file_extension": ".py",
      "mimetype": "text/x-python",
      "name": "python",
      "nbconvert_exporter": "python",
      "pygments_lexer": "ipython3",
      "version": "3.8.5"
    },
    "accelerator": "GPU",
    "gpuClass": "standard"
  },
  "cells": [
    {
      "cell_type": "markdown",
      "metadata": {
        "id": "view-in-github",
        "colab_type": "text"
      },
      "source": [
        "<a href=\"https://colab.research.google.com/github/Burgerjoa/colab/blob/main/%ED%8C%A8%EC%85%98_%EC%98%A4%ED%86%A0%EC%9D%B8%EC%BD%94%EB%8D%94.ipynb\" target=\"_parent\"><img src=\"https://colab.research.google.com/assets/colab-badge.svg\" alt=\"Open In Colab\"/></a>"
      ]
    },
    {
      "cell_type": "markdown",
      "metadata": {
        "id": "K74mqS_L8nq4"
      },
      "source": [
        "# 9.3 오토인코더의 구현\n"
      ]
    },
    {
      "cell_type": "markdown",
      "metadata": {
        "id": "PGJz48jUVqoe"
      },
      "source": [
        "리스트9.1 훈련용 데이터를 준비한다"
      ]
    },
    {
      "cell_type": "code",
      "metadata": {
        "colab": {
          "base_uri": "https://localhost:8080/",
          "height": 488
        },
        "id": "EcKpe2k38bax",
        "outputId": "580bcd54-9bc0-4bed-cb26-5928038e2810"
      },
      "source": [
        "import numpy as np\n",
        "import matplotlib.pyplot as plt\n",
        "import tensorflow as tf\n",
        "from tensorflow.keras.datasets import fashion_mnist as data # 케라스 기본 제공 데이터 중 10가지 패션 범주에 대한 이미지 데이터 셋 임포트\n",
        "\n",
        "(x_train, t_train), (x_test, t_test) = data.load_data()  # 데이터 읽어 들이기\n",
        "print(x_train.shape, x_test.shape)  # 28x28의 패션 이미지가 6만장\n",
        "\n",
        "# 각 픽셀의 값을 0-1 범위에 넣는다\n",
        "x_train = x_train / 255\n",
        "x_test = x_test / 255\n",
        "\n",
        "# 패션 이미지를 1개 표시\n",
        "plt.imshow(x_train[0].reshape(28, 28), cmap=\"gray\")\n",
        "plt.title(t_train[0])\n",
        "plt.show() \n",
        "\n",
        "# 1차원으로 변환한다\n",
        "x_train = x_train.reshape(x_train.shape[0], -1)\n",
        "x_test = x_test.reshape(x_test.shape[0], -1)\n",
        "print(\"훈련용 데이터의 형태:\", x_train.shape, \"테스트용 데이터의 형태:\", x_test.shape)"
      ],
      "execution_count": 7,
      "outputs": [
        {
          "output_type": "stream",
          "name": "stdout",
          "text": [
            "(60000, 28, 28) (10000, 28, 28)\n"
          ]
        },
        {
          "output_type": "display_data",
          "data": {
            "text/plain": [
              "<Figure size 640x480 with 1 Axes>"
            ],
            "image/png": "[encoded data removed]"
          },
          "metadata": {}
        },
        {
          "output_type": "stream",
          "name": "stdout",
          "text": [
            "훈련용 데이터의 형태: (60000, 784) 테스트용 데이터의 형태: (10000, 784)\n"
          ]
        }
      ]
    },
    {
      "cell_type": "markdown",
      "metadata": {
        "id": "NT5y8Ty3Vqof"
      },
      "source": [
        "리스트9.2 오토인코더의 각 설정"
      ]
    },
    {
      "cell_type": "code",
      "metadata": {
        "id": "n6Ts3siI8awo"
      },
      "source": [
        "epochs = 20  \n",
        "batch_size = 128\n",
        "n_in_out = 784  # 입출력층의 뉴런 수\n",
        "n_mid = 64  # 중간층의 뉴런 수"
      ],
      "execution_count": 8,
      "outputs": []
    },
    {
      "cell_type": "markdown",
      "metadata": {
        "id": "G9wuVykbVqoh"
      },
      "source": [
        "리스트9.3 오토인코더 모델의 구축"
      ]
    },
    {
      "cell_type": "code",
      "metadata": {
        "colab": {
          "base_uri": "https://localhost:8080/"
        },
        "id": "Ql5XWTfVWghn",
        "outputId": "a3e5d809-771a-4bcf-c8c6-abfd34796fd4"
      },
      "source": [
        "from tensorflow.python.keras.models import Model\n",
        "from tensorflow.python.keras.layers import Input, Dense\n",
        "\n",
        "# 각 층\n",
        "x = Input(shape=(n_in_out,))  # 입력\n",
        "encoder = Dense(n_mid, activation=\"relu\")  # Encoder\n",
        "decoder = Dense(n_in_out, activation=\"sigmoid\")  #D ecoder\n",
        "\n",
        "# 망\n",
        "h = encoder(x)\n",
        "y = decoder(h)\n",
        "\n",
        "# 오토인코더의 모델\n",
        "model_autoencoder = Model(x, y)\n",
        "model_autoencoder.compile(optimizer=\"adam\", loss=\"binary_crossentropy\")\n",
        "model_autoencoder.summary()\n",
        "print()\n",
        "\n",
        "# Encoder만의 모델\n",
        "model_encoder = Model(x, h)\n",
        "model_encoder.summary()\n",
        "print()\n",
        "\n",
        "# Decoder만의 모델\n",
        "input_decoder = Input(shape=(n_mid,))\n",
        "model_decoder = Model(input_decoder, decoder(input_decoder))\n",
        "model_decoder.summary()"
      ],
      "execution_count": 9,
      "outputs": [
        {
          "output_type": "stream",
          "name": "stdout",
          "text": [
            "Model: \"model_3\"\n",
            "_________________________________________________________________\n",
            "Layer (type)                 Output Shape              Param #   \n",
            "=================================================================\n",
            "input_3 (InputLayer)         [(None, 784)]             0         \n",
            "_________________________________________________________________\n",
            "dense_2 (Dense)              (None, 64)                50240     \n",
            "_________________________________________________________________\n",
            "dense_3 (Dense)              (None, 784)               50960     \n",
            "=================================================================\n",
            "Total params: 101,200\n",
            "Trainable params: 101,200\n",
            "Non-trainable params: 0\n",
            "_________________________________________________________________\n",
            "\n",
            "Model: \"model_4\"\n",
            "_________________________________________________________________\n",
            "Layer (type)                 Output Shape              Param #   \n",
            "=================================================================\n",
            "input_3 (InputLayer)         [(None, 784)]             0         \n",
            "_________________________________________________________________\n",
            "dense_2 (Dense)              (None, 64)                50240     \n",
            "=================================================================\n",
            "Total params: 50,240\n",
            "Trainable params: 50,240\n",
            "Non-trainable params: 0\n",
            "_________________________________________________________________\n",
            "\n",
            "Model: \"model_5\"\n",
            "_________________________________________________________________\n",
            "Layer (type)                 Output Shape              Param #   \n",
            "=================================================================\n",
            "input_4 (InputLayer)         [(None, 64)]              0         \n",
            "_________________________________________________________________\n",
            "dense_3 (Dense)              (None, 784)               50960     \n",
            "=================================================================\n",
            "Total params: 50,960\n",
            "Trainable params: 50,960\n",
            "Non-trainable params: 0\n",
            "_________________________________________________________________\n"
          ]
        }
      ]
    },
    {
      "cell_type": "markdown",
      "metadata": {
        "id": "FSTPIsIhVqoi"
      },
      "source": [
        "리스트9.4 오토인코더의 학습"
      ]
    },
    {
      "cell_type": "code",
      "metadata": {
        "colab": {
          "base_uri": "https://localhost:8080/"
        },
        "id": "RNKvkX9x2Cma",
        "outputId": "2a8575ef-837c-40db-b2b8-ce77a0bc8df1"
      },
      "source": [
        "model_autoencoder.fit(x_train, x_train,\n",
        "                      shuffle=True,\n",
        "                      epochs=epochs,\n",
        "                      batch_size=batch_size,\n",
        "                      validation_data=(x_test, x_test))"
      ],
      "execution_count": 10,
      "outputs": [
        {
          "output_type": "stream",
          "name": "stdout",
          "text": [
            "Epoch 1/20\n",
            "469/469 [==============================] - 5s 3ms/step - loss: 0.3571 - val_loss: 0.3094\n",
            "Epoch 2/20\n",
            "469/469 [==============================] - 1s 3ms/step - loss: 0.2975 - val_loss: 0.2921\n",
            "Epoch 3/20\n",
            "469/469 [==============================] - 1s 3ms/step - loss: 0.2856 - val_loss: 0.2842\n",
            "Epoch 4/20\n",
            "469/469 [==============================] - 1s 3ms/step - loss: 0.2801 - val_loss: 0.2806\n",
            "Epoch 5/20\n",
            "469/469 [==============================] - 1s 3ms/step - loss: 0.2772 - val_loss: 0.2785\n",
            "Epoch 6/20\n",
            "469/469 [==============================] - 2s 4ms/step - loss: 0.2755 - val_loss: 0.2769\n",
            "Epoch 7/20\n",
            "469/469 [==============================] - 1s 3ms/step - loss: 0.2743 - val_loss: 0.2760\n",
            "Epoch 8/20\n",
            "469/469 [==============================] - 1s 3ms/step - loss: 0.2735 - val_loss: 0.2755\n",
            "Epoch 9/20\n",
            "469/469 [==============================] - 1s 3ms/step - loss: 0.2728 - val_loss: 0.2748\n",
            "Epoch 10/20\n",
            "469/469 [==============================] - 1s 3ms/step - loss: 0.2723 - val_loss: 0.2744\n",
            "Epoch 11/20\n",
            "469/469 [==============================] - 1s 3ms/step - loss: 0.2719 - val_loss: 0.2741\n",
            "Epoch 12/20\n",
            "469/469 [==============================] - 1s 3ms/step - loss: 0.2717 - val_loss: 0.2739\n",
            "Epoch 13/20\n",
            "469/469 [==============================] - 1s 3ms/step - loss: 0.2714 - val_loss: 0.2737\n",
            "Epoch 14/20\n",
            "469/469 [==============================] - 1s 3ms/step - loss: 0.2713 - val_loss: 0.2735\n",
            "Epoch 15/20\n",
            "469/469 [==============================] - 2s 3ms/step - loss: 0.2711 - val_loss: 0.2733\n",
            "Epoch 16/20\n",
            "469/469 [==============================] - 2s 3ms/step - loss: 0.2710 - val_loss: 0.2732\n",
            "Epoch 17/20\n",
            "469/469 [==============================] - 1s 3ms/step - loss: 0.2709 - val_loss: 0.2731\n",
            "Epoch 18/20\n",
            "469/469 [==============================] - 1s 3ms/step - loss: 0.2708 - val_loss: 0.2730\n",
            "Epoch 19/20\n",
            "469/469 [==============================] - 1s 3ms/step - loss: 0.2707 - val_loss: 0.2730\n",
            "Epoch 20/20\n",
            "469/469 [==============================] - 1s 3ms/step - loss: 0.2706 - val_loss: 0.2731\n"
          ]
        },
        {
          "output_type": "execute_result",
          "data": {
            "text/plain": [
              "<tensorflow.python.keras.callbacks.History at 0x7f25ec256e30>"
            ]
          },
          "metadata": {},
          "execution_count": 10
        }
      ]
    },
    {
      "cell_type": "markdown",
      "metadata": {
        "id": "SMbKxPheVqom"
      },
      "source": [
        "리스트9.5 오토인코더에 의한 이미지 생성"
      ]
    },
    {
      "cell_type": "code",
      "metadata": {
        "colab": {
          "base_uri": "https://localhost:8080/",
          "height": 345
        },
        "id": "QtGpxQGz5OxB",
        "outputId": "33b657d6-1a81-4be3-c3c6-99c0a87b0269"
      },
      "source": [
        "encoded = model_encoder.predict(x_test)\n",
        "decoded = model_decoder.predict(encoded)\n",
        "\n",
        "n = 8  # 표시할 이미지 수\n",
        "plt.figure(figsize=(16, 4))\n",
        "for i in range(n):\n",
        "    # 입력 이미지\n",
        "    ax = plt.subplot(3, n, i+1)\n",
        "    plt.imshow(x_test[i].reshape(28, 28), cmap=\"Greys_r\")\n",
        "    ax.get_xaxis().set_visible(False)\n",
        "    ax.get_yaxis().set_visible(False)\n",
        "\n",
        "    # 중간층의 출력\n",
        "    ax = plt.subplot(3, n, i+1+n)\n",
        "    plt.imshow(encoded[i].reshape(8,8), cmap=\"Greys_r\") #이미지 크기는 중간층의 뉴런 수에 맞춰서 변경한다\n",
        "    ax.get_xaxis().set_visible(False)\n",
        "    ax.get_yaxis().set_visible(False)\n",
        "    \n",
        "    # 출력 이미지\n",
        "    ax = plt.subplot(3, n, i+1+2*n)\n",
        "    plt.imshow(decoded[i].reshape(28, 28), cmap=\"Greys_r\")\n",
        "    ax.get_xaxis().set_visible(False)\n",
        "    ax.get_yaxis().set_visible(False)\n",
        "\n",
        "plt.show()"
      ],
      "execution_count": 11,
      "outputs": [
        {
          "output_type": "display_data",
          "data": {
            "text/plain": [
              "<Figure size 1600x400 with 24 Axes>"
            ],
            "image/png": "[encoded data removed]"
          },
          "metadata": {}
        }
      ]
    }
  ]
}